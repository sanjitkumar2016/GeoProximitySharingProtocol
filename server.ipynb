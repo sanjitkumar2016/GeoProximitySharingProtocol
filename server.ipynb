{
 "cells": [
  {
   "cell_type": "code",
   "execution_count": null,
   "metadata": {
    "metadata": {}
   },
   "outputs": [
    {
     "name": "stderr",
     "output_type": "stream",
     "text": [
      "INFO:src.server.web_server:Starting server at https://10.91.108.112:10000\n"
     ]
    },
    {
     "name": "stdout",
     "output_type": "stream",
     "text": [
      " * Serving Flask app \"src.server.web_server\" (lazy loading)\n"
     ]
    },
    {
     "name": "stderr",
     "output_type": "stream",
     "text": [
      "INFO:src.server.server_store:Web server started\n"
     ]
    },
    {
     "name": "stdout",
     "output_type": "stream",
     "text": [
      " * Environment: production\n",
      "   WARNING: This is a development server. Do not use it in a production deployment.\n",
      "   Use a production WSGI server instead.\n",
      " * Debug mode: off\n"
     ]
    },
    {
     "name": "stderr",
     "output_type": "stream",
     "text": [
      "INFO:werkzeug: * Running on https://10.91.108.112:10000/ (Press CTRL+C to quit)\n",
      "INFO:src.server.web_server:Handling create user with params: ImmutableMultiDict([('username', 'bob'), ('host', '10.91.39.161'), ('port', '9002')])\n",
      "INFO:src.server.server_store:User 'bob' created at address 10.91.39.161:9002\n",
      "INFO:werkzeug:10.91.39.161 - - [11/Nov/2024 21:28:23] \"\u001b[37mPOST /create_user?username=bob&host=10.91.39.161&port=9002 HTTP/1.1\u001b[0m\" 201 -\n",
      "INFO:src.server.web_server:Handling create user with params: ImmutableMultiDict([('username', 'alice'), ('host', '10.91.17.170'), ('port', '9001')])\n",
      "INFO:src.server.server_store:User 'alice' created at address 10.91.17.170:9001\n",
      "INFO:werkzeug:10.91.17.170 - - [11/Nov/2024 21:34:25] \"\u001b[37mPOST /create_user?username=alice&host=10.91.17.170&port=9001 HTTP/1.1\u001b[0m\" 201 -\n",
      "INFO:src.server.web_server:Handling add friend with params: ImmutableMultiDict([('username', 'bob')])\n",
      "INFO:src.server.server_store:Friend request from 'alice' to 'bob'\n",
      "INFO:werkzeug:10.91.17.170 - - [11/Nov/2024 21:34:51] \"\u001b[37mPOST /add_friend?username=bob HTTP/1.1\u001b[0m\" 200 -\n",
      "INFO:src.server.web_server:Handling accept friend request with params: ImmutableMultiDict([('username', 'alice')])\n",
      "INFO:src.server.server_store:Friend request accepted from 'alice' to 'bob'\n",
      "INFO:werkzeug:10.91.39.161 - - [11/Nov/2024 21:34:58] \"\u001b[37mPOST /accept_friend_request?username=alice HTTP/1.1\u001b[0m\" 200 -\n",
      "INFO:src.server.web_server:Handling address request with params: ImmutableMultiDict([('username', 'bob')])\n",
      "INFO:werkzeug:10.91.17.170 - - [11/Nov/2024 21:35:13] \"\u001b[37mGET /address_request?username=bob HTTP/1.1\u001b[0m\" 200 -\n",
      "INFO:src.server.web_server:Handling accept location request with params: ImmutableMultiDict([('username', 'alice'), ('latitude_hashes', 'WyI4NWMyNWQ3Y2JiNTk5YzkwZWYzMDM4MDRjMzBhYmEyZjBmYTAzNGFjMDY5ZDY3Nzk5YjQ3ZWRhMWU0OTI3YjJlIiwgIjg1YzI1ZDdjYmI1OTljOTBlZjMwMzgwNGMzMGFiYTJmMGZhMDM0YWMwNjlkNjc3OTliNDdlZGExZTQ5MjdiMmUiLCAiNDMwYjBiM2U0NjQxODU4NjI5MTljMWM5OWJhM2U5Njk2ZjIyZWJjOWY5ZWI1NjA4MjYyNGYzODg2NTFkMThkMCJd'), ('longitude_hashes', 'WyI0MjFmYTA1MDgxMmZlYjE2YjdlN2FhOWJhODQwODgwNTRlYTdiYjJjZDRiZmRjNjIwY2ZhYmI1ZmUzNjEyZTA0IiwgIjQyMWZhMDUwODEyZmViMTZiN2U3YWE5YmE4NDA4ODA1NGVhN2JiMmNkNGJmZGM2MjBjZmFiYjVmZTM2MTJlMDQiLCAiOWQ4OWM4MDJiOGM4ZWEzNzNhMDY2NGE5ZjFlZjZkMjY4YzRkZjA3ZTdmZThjZDRiYjk4M2U5OTUyMWRmMWU2NSJd')])\n",
      "INFO:src.server.server_store:Location request from 'bob' to 'alice'\n",
      "INFO:werkzeug:10.91.39.161 - - [11/Nov/2024 21:35:24] \"\u001b[37mPOST /accept_location_request?username=alice&latitude_hashes=WyI4NWMyNWQ3Y2JiNTk5YzkwZWYzMDM4MDRjMzBhYmEyZjBmYTAzNGFjMDY5ZDY3Nzk5YjQ3ZWRhMWU0OTI3YjJlIiwgIjg1YzI1ZDdjYmI1OTljOTBlZjMwMzgwNGMzMGFiYTJmMGZhMDM0YWMwNjlkNjc3OTliNDdlZGExZTQ5MjdiMmUiLCAiNDMwYjBiM2U0NjQxODU4NjI5MTljMWM5OWJhM2U5Njk2ZjIyZWJjOWY5ZWI1NjA4MjYyNGYzODg2NTFkMThkMCJd&longitude_hashes=WyI0MjFmYTA1MDgxMmZlYjE2YjdlN2FhOWJhODQwODgwNTRlYTdiYjJjZDRiZmRjNjIwY2ZhYmI1ZmUzNjEyZTA0IiwgIjQyMWZhMDUwODEyZmViMTZiN2U3YWE5YmE4NDA4ODA1NGVhN2JiMmNkNGJmZGM2MjBjZmFiYjVmZTM2MTJlMDQiLCAiOWQ4OWM4MDJiOGM4ZWEzNzNhMDY2NGE5ZjFlZjZkMjY4YzRkZjA3ZTdmZThjZDRiYjk4M2U5OTUyMWRmMWU2NSJd HTTP/1.1\u001b[0m\" 200 -\n",
      "INFO:src.server.web_server:Handling address request with params: ImmutableMultiDict([('username', 'bob')])\n",
      "INFO:werkzeug:10.91.17.170 - - [11/Nov/2024 21:35:25] \"\u001b[37mGET /address_request?username=bob HTTP/1.1\u001b[0m\" 200 -\n",
      "INFO:src.server.web_server:Handling address request with params: ImmutableMultiDict([('username', 'alice')])\n",
      "INFO:werkzeug:10.91.39.161 - - [11/Nov/2024 21:35:25] \"\u001b[37mGET /address_request?username=alice HTTP/1.1\u001b[0m\" 200 -\n"
     ]
    }
   ],
   "source": [
    "from src.server.server_store import ServerStore\n",
    "server_store = ServerStore(\"10.91.108.112\", 10000)"
   ]
  }
 ],
 "metadata": {
  "kernelspec": {
   "display_name": "Python 3",
   "language": "python",
   "name": "python3"
  },
  "language_info": {
   "codemirror_mode": {
    "name": "ipython",
    "version": 3
   },
   "file_extension": ".py",
   "mimetype": "text/x-python",
   "name": "python",
   "nbconvert_exporter": "python",
   "pygments_lexer": "ipython3",
   "version": "3.8.5"
  }
 },
 "nbformat": 4,
 "nbformat_minor": 2
}
