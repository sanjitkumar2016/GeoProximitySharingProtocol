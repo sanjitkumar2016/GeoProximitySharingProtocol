{
 "cells": [
  {
   "cell_type": "code",
   "execution_count": 1,
   "metadata": {},
   "outputs": [],
   "source": [
    "from src.server.server_store import ServerStore"
   ]
  },
  {
   "cell_type": "code",
   "execution_count": null,
   "metadata": {},
   "outputs": [
    {
     "name": "stderr",
     "output_type": "stream",
     "text": [
      "INFO:src.server.web_server:Starting server at https://127.0.0.1:8080\n"
     ]
    },
    {
     "name": "stdout",
     "output_type": "stream",
     "text": [
      " * Serving Flask app 'src.server.web_server'\n",
      " * Debug mode: off\n"
     ]
    },
    {
     "name": "stderr",
     "output_type": "stream",
     "text": [
      "INFO:werkzeug:\u001b[31m\u001b[1mWARNING: This is a development server. Do not use it in a production deployment. Use a production WSGI server instead.\u001b[0m\n",
      " * Running on https://127.0.0.1:8080\n",
      "INFO:werkzeug:\u001b[33mPress CTRL+C to quit\u001b[0m\n",
      "INFO:werkzeug:127.0.0.1 - - [10/Nov/2024 16:15:24] \"\u001b[35m\u001b[1mPOST /create_user?username=alice&host=127.0.0.1&port=9001 HTTP/1.1\u001b[0m\" 201 -\n"
     ]
    },
    {
     "name": "stdout",
     "output_type": "stream",
     "text": [
      "PublicKey LS0tLS1CRUdJTiBQVUJMSUMgS0VZLS0tLS0KTUlJQklqQU5CZ2txaGtpRzl3MEJBUUVGQUFPQ0FROEFNSUlCQ2dLQ0FRRUFwUW1nOEI2SjVLdlArbHdiZWk4Tgo3QkVmRUlUbmJKb2Vsb1hMUFU1TFJSbFdOQXdUQlh2K1BtY1NtOW1veDNHNCsvazRlNUJnd1o3UzBNZEdzZTczCkdCR3RyQ1hpejArWksydjVKTjB3dTkyNTBma1p2c25EbmJBaU1qWFNkTzNQU2dBMmdyc0ZkYmQxZjZvU2ZEancKdlJTcWY3MjV2WDVUM1o1RGc1Yyt0SEdmMjRFZzlhOTZ4bnhFYVVjdWpMK3lFOVZQV0F2Wkd0VmppdWQ3NmhDWApmVnpBU0RWbDhwRE9WMnVTSGFwT0YxclA0SU1NeE5icG9ta3JrTmJEeFIvNWlNOUFONWxHeHJMb2RFTGZiVGRSCld5TGF6M0QwZytGR2M4ZlIycld5MlFtVjI0YllvOFNyU1VpMGY0NWU1am9sbCtOKzVGM3diUkViL3lWMUMxQ1MKclFJREFRQUIKLS0tLS1FTkQgUFVCTElDIEtFWS0tLS0tCg==\n",
      "b'-----BEGIN PUBLIC KEY-----\\nMIIBIjANBgkqhkiG9w0BAQEFAAOCAQ8AMIIBCgKCAQEApQmg8B6J5KvP+lwbei8N\\n7BEfEITnbJoeloXLPU5LRRlWNAwTBXv+PmcSm9mox3G4+/k4e5BgwZ7S0MdGse73\\nGBGtrCXiz0+ZK2v5JN0wu9250fkZvsnDnbAiMjXSdO3PSgA2grsFdbd1f6oSfDjw\\nvRSqf725vX5T3Z5Dg5c+tHGf24Eg9a96xnxEaUcujL+yE9VPWAvZGtVjiud76hCX\\nfVzASDVl8pDOV2uSHapOF1rP4IMMxNbpomkrkNbDxR/5iM9AN5lGxrLodELfbTdR\\nWyLaz3D0g+FGc8fR2rWy2QmV24bYo8SrSUi0f45e5joll+N+5F3wbREb/yV1C1CS\\nrQIDAQAB\\n-----END PUBLIC KEY-----\\n'\n"
     ]
    }
   ],
   "source": [
    "server_store = ServerStore()"
   ]
  },
  {
   "cell_type": "code",
   "execution_count": 8,
   "metadata": {},
   "outputs": [
    {
     "name": "stdout",
     "output_type": "stream",
     "text": [
      "b\"\\xa6\\xed\\xb8\\r0\\xbd\\xe1l|R\\x89\\xfd\\xea\\xd8\\xe2\\x89\\xbc\\x83\\xee\\xa4t\\xcf)\\x1f\\xaa\\xa3\\xc2\\x12\\x94\\x13\\xa7?$^7\\x8f\\x944]\\xf5\\x0e\\xd2\\xc4k\\x03\\xfe\\x06\\xf73\\x7f\\xc4\\xec\\x18\\xe2<\\x074\\x1e\\xb7\\xf8K\\xe0\\x1fE\\x95\\xf6\\x8dd\\x8c\\xe0H*w'#!K\\xe9\\xc3(\\x91\\xa2\\xc0\\xd0\\x94\\xfb\\xe2\\xa3\\x94\\x9b\\r\\xb0\\xc89\\x01\\x82\\xb4\\xc8\\xd8\\xf2l\\xffr\\x7f\\x83\\x91\\xe7j-\\x19\\xb5{e=\\x1a\\xb1&Q`?'\\xc5\\xc2\\x10\\x91gF\\xedz\\x05\\xb5\\xe47Jy`\\x97\\x81W<\\xa3\\x0f,\\x0b\\xa3\\xc7N\\xfc\\xd35KL\\x9e\\xa7\\xce>\\xa2\\xb2wL\\xe7\\xa3)*q%\\x08\\xf2;\\xc5%W\\x8e\\xda\\x18kT\\xc4\\xfa\\x11.\\x80\\xbe+\\xc6l\\x9aV\\xa2\\xd1\\xe5''s\\x82W\\x90w7\\x84\\xe1\\xbd\\xb2x?\\\\\\xaa\\x0b\\xf8=c\\x7fa\\xf2\\r$\\xfa\\x0cDd\\xa6\\xd2B^kT,\\xb0\\xd9ek\\xe9;6\\x98\\xd4\\x06\\x85(\\xf4\\xe5\\xa6\\xb4\\x08'\\xabV\\xe2\\xc5\\x9e\\x01\\xb1\\xd1\\xdf\\xae9\" b'encrypt me!'\n"
     ]
    }
   ],
   "source": [
    "from cryptography.hazmat.backends import default_backend\n",
    "from cryptography.hazmat.primitives import hashes, serialization\n",
    "from cryptography.hazmat.primitives.asymmetric import padding, rsa\n",
    "# Generate public/private key pair\n",
    "private_key = rsa.generate_private_key(\n",
    "    public_exponent=65537,\n",
    "    key_size=2048,\n",
    "    backend=default_backend()\n",
    ")\n",
    "public_key = private_key.public_key()\n",
    "# Serialize the public key\n",
    "pem = public_key.public_bytes(\n",
    "    encoding=serialization.Encoding.PEM,\n",
    "    format=serialization.PublicFormat.SubjectPublicKeyInfo\n",
    ")\n",
    "# Read the public key\n",
    "public_key2 = serialization.load_pem_public_key(pem, backend=default_backend())\n",
    "\n",
    "# Encrypt the message\n",
    "message = b'encrypt me!'\n",
    "ciphertext = public_key2.encrypt(\n",
    "    message,\n",
    "    padding.OAEP(\n",
    "        mgf=padding.MGF1(algorithm=hashes.SHA256()),\n",
    "        algorithm=hashes.SHA256(),\n",
    "        label=None\n",
    "    )\n",
    ")\n",
    "\n",
    "# Decrypt the message\n",
    "\n",
    "plaintext = private_key.decrypt(\n",
    "    ciphertext,\n",
    "    padding.OAEP(\n",
    "        mgf=padding.MGF1(algorithm=hashes.SHA256()),\n",
    "        algorithm=hashes.SHA256(),\n",
    "        label=None\n",
    "    )\n",
    ")\n",
    "print(ciphertext, plaintext)"
   ]
  }
 ],
 "metadata": {
  "kernelspec": {
   "display_name": "Python 3",
   "language": "python",
   "name": "python3"
  },
  "language_info": {
   "codemirror_mode": {
    "name": "ipython",
    "version": 3
   },
   "file_extension": ".py",
   "mimetype": "text/x-python",
   "name": "python",
   "nbconvert_exporter": "python",
   "pygments_lexer": "ipython3",
   "version": "3.13.0"
  }
 },
 "nbformat": 4,
 "nbformat_minor": 2
}
