{
 "cells": [
  {
   "cell_type": "code",
   "execution_count": null,
   "metadata": {},
   "outputs": [
    {
     "name": "stderr",
     "output_type": "stream",
     "text": [
      "INFO:src.server.web_server:Starting server at https://127.0.0.1:8080\n"
     ]
    },
    {
     "name": "stdout",
     "output_type": "stream",
     "text": [
      " * Serving Flask app 'src.server.web_server'\n",
      " * Debug mode: off\n"
     ]
    },
    {
     "name": "stderr",
     "output_type": "stream",
     "text": [
      "INFO:werkzeug:\u001b[31m\u001b[1mWARNING: This is a development server. Do not use it in a production deployment. Use a production WSGI server instead.\u001b[0m\n",
      " * Running on https://127.0.0.1:8080\n",
      "INFO:werkzeug:\u001b[33mPress CTRL+C to quit\u001b[0m\n",
      "INFO:src.server.server_store:User 'alice' created at address 127.0.0.1:9001\n",
      "INFO:werkzeug:127.0.0.1 - - [11/Nov/2024 00:10:26] \"\u001b[35m\u001b[1mPOST /create_user?username=alice&host=127.0.0.1&port=9001 HTTP/1.1\u001b[0m\" 201 -\n",
      "INFO:src.server.server_store:User 'bob' created at address 127.0.0.1:9002\n",
      "INFO:werkzeug:127.0.0.1 - - [11/Nov/2024 00:10:36] \"\u001b[35m\u001b[1mPOST /create_user?username=bob&host=127.0.0.1&port=9002 HTTP/1.1\u001b[0m\" 201 -\n",
      "INFO:src.server.server_store:Friend request from 'alice' to 'bob'\n",
      "INFO:werkzeug:127.0.0.1 - - [11/Nov/2024 00:10:45] \"POST /add_friend?username=bob HTTP/1.1\" 200 -\n",
      "INFO:src.server.server_store:Friend request accepted from 'alice' to 'bob'\n",
      "INFO:werkzeug:127.0.0.1 - - [11/Nov/2024 00:10:52] \"POST /accept_friend_request?username=alice HTTP/1.1\" 200 -\n"
     ]
    }
   ],
   "source": [
    "from src.server.server_store import ServerStore\n",
    "server_store = ServerStore(\"127.0.0.1\")"
   ]
  }
 ],
 "metadata": {
  "kernelspec": {
   "display_name": "Python 3",
   "language": "python",
   "name": "python3"
  },
  "language_info": {
   "codemirror_mode": {
    "name": "ipython",
    "version": 3
   },
   "file_extension": ".py",
   "mimetype": "text/x-python",
   "name": "python",
   "nbconvert_exporter": "python",
   "pygments_lexer": "ipython3",
   "version": "3.13.0"
  }
 },
 "nbformat": 4,
 "nbformat_minor": 2
}
