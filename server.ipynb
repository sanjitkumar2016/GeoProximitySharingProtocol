{
 "cells": [
  {
   "cell_type": "code",
   "execution_count": null,
   "metadata": {},
   "outputs": [
    {
     "name": "stderr",
     "output_type": "stream",
     "text": [
      "INFO:src.server.web_server:Starting server at https://127.0.0.1:8080\n",
      "INFO:src.server.server_store:Web server started\n"
     ]
    },
    {
     "name": "stdout",
     "output_type": "stream",
     "text": [
      " * Serving Flask app 'src.server.web_server'\n",
      " * Debug mode: off\n"
     ]
    },
    {
     "name": "stderr",
     "output_type": "stream",
     "text": [
      "INFO:werkzeug:\u001b[31m\u001b[1mWARNING: This is a development server. Do not use it in a production deployment. Use a production WSGI server instead.\u001b[0m\n",
      " * Running on https://127.0.0.1:8080\n",
      "INFO:werkzeug:\u001b[33mPress CTRL+C to quit\u001b[0m\n",
      "INFO:src.server.web_server:Handling create user with params: ImmutableMultiDict([('username', 'alice'), ('host', '127.0.0.1'), ('port', '9001')])\n",
      "INFO:src.server.server_store:User 'alice' created at address 127.0.0.1:9001\n",
      "INFO:werkzeug:127.0.0.1 - - [11/Nov/2024 19:45:35] \"\u001b[35m\u001b[1mPOST /create_user?username=alice&host=127.0.0.1&port=9001 HTTP/1.1\u001b[0m\" 201 -\n",
      "INFO:src.server.web_server:Handling create user with params: ImmutableMultiDict([('username', 'bob'), ('host', '127.0.0.1'), ('port', '9002')])\n",
      "INFO:src.server.server_store:User 'bob' created at address 127.0.0.1:9002\n",
      "INFO:werkzeug:127.0.0.1 - - [11/Nov/2024 19:45:45] \"\u001b[35m\u001b[1mPOST /create_user?username=bob&host=127.0.0.1&port=9002 HTTP/1.1\u001b[0m\" 201 -\n",
      "INFO:src.server.web_server:Handling add friend with params: ImmutableMultiDict([('username', 'bob')])\n",
      "INFO:src.server.server_store:Friend request from 'alice' to 'bob'\n",
      "INFO:werkzeug:127.0.0.1 - - [11/Nov/2024 19:45:50] \"POST /add_friend?username=bob HTTP/1.1\" 200 -\n",
      "INFO:src.server.web_server:Handling accept friend request with params: ImmutableMultiDict([('username', 'alice')])\n",
      "INFO:src.server.server_store:Friend request accepted from 'alice' to 'bob'\n",
      "INFO:werkzeug:127.0.0.1 - - [11/Nov/2024 19:46:03] \"POST /accept_friend_request?username=alice HTTP/1.1\" 200 -\n",
      "INFO:src.server.web_server:Handling address request with params: ImmutableMultiDict([('username', 'bob')])\n",
      "INFO:werkzeug:127.0.0.1 - - [11/Nov/2024 19:46:14] \"GET /address_request?username=bob HTTP/1.1\" 200 -\n",
      "INFO:src.server.web_server:Handling accept location request with params: ImmutableMultiDict([('username', 'alice'), ('latitude_hashes', 'WyJmZWExYzc2YzRkMDBiY2JmNmUyNGQyZjA3NzM1YmZlN2ZiNzI0NmM0ZTZhYjg0N2UzMDgwMjUxYWMyOTY0YTNlIiwgImZlYTFjNzZjNGQwMGJjYmY2ZTI0ZDJmMDc3MzViZmU3ZmI3MjQ2YzRlNmFiODQ3ZTMwODAyNTFhYzI5NjRhM2UiLCAiNzgyYTQ0NjYzNGU2NmQ0ZjkwNTVkMjVkZDhiNjEyNmM2NWYwYTYxNjZiMjhkMTc1YmJmNTBmODkxZWNhMWYzMCJd'), ('longitude_hashes', 'WyIyYTY3MjgzOGI1YzUxNWRmNDc0NTM1YjdmZWI3NTBhZjU4MzE1YmMzYzZiYzRmM2QzN2RiNTc4ZTM1YjRkMDUzIiwgIjJhNjcyODM4YjVjNTE1ZGY0NzQ1MzViN2ZlYjc1MGFmNTgzMTViYzNjNmJjNGYzZDM3ZGI1NzhlMzViNGQwNTMiLCAiYmExMDQ2YmEwNjhjOGIyM2JmOGFiYTNjZDRiOTAxNjFiZDhjMjE1Y2IwYjgyZWE4NmQ2Y2E1ZWMyM2ZhNzZhNyJd')])\n",
      "INFO:src.server.server_store:Location request from 'bob' to 'alice'\n",
      "INFO:werkzeug:127.0.0.1 - - [11/Nov/2024 19:46:18] \"POST /accept_location_request?username=alice&latitude_hashes=WyJmZWExYzc2YzRkMDBiY2JmNmUyNGQyZjA3NzM1YmZlN2ZiNzI0NmM0ZTZhYjg0N2UzMDgwMjUxYWMyOTY0YTNlIiwgImZlYTFjNzZjNGQwMGJjYmY2ZTI0ZDJmMDc3MzViZmU3ZmI3MjQ2YzRlNmFiODQ3ZTMwODAyNTFhYzI5NjRhM2UiLCAiNzgyYTQ0NjYzNGU2NmQ0ZjkwNTVkMjVkZDhiNjEyNmM2NWYwYTYxNjZiMjhkMTc1YmJmNTBmODkxZWNhMWYzMCJd&longitude_hashes=WyIyYTY3MjgzOGI1YzUxNWRmNDc0NTM1YjdmZWI3NTBhZjU4MzE1YmMzYzZiYzRmM2QzN2RiNTc4ZTM1YjRkMDUzIiwgIjJhNjcyODM4YjVjNTE1ZGY0NzQ1MzViN2ZlYjc1MGFmNTgzMTViYzNjNmJjNGYzZDM3ZGI1NzhlMzViNGQwNTMiLCAiYmExMDQ2YmEwNjhjOGIyM2JmOGFiYTNjZDRiOTAxNjFiZDhjMjE1Y2IwYjgyZWE4NmQ2Y2E1ZWMyM2ZhNzZhNyJd HTTP/1.1\" 200 -\n",
      "INFO:src.server.web_server:Handling address request with params: ImmutableMultiDict([('username', 'bob')])\n",
      "INFO:werkzeug:127.0.0.1 - - [11/Nov/2024 19:46:18] \"GET /address_request?username=bob HTTP/1.1\" 200 -\n",
      "INFO:src.server.web_server:Handling address request with params: ImmutableMultiDict([('username', 'alice')])\n",
      "INFO:werkzeug:127.0.0.1 - - [11/Nov/2024 19:46:18] \"GET /address_request?username=alice HTTP/1.1\" 200 -\n",
      "INFO:src.server.web_server:Handling address request with params: ImmutableMultiDict([('username', 'bob')])\n",
      "INFO:werkzeug:127.0.0.1 - - [11/Nov/2024 19:48:02] \"GET /address_request?username=bob HTTP/1.1\" 200 -\n",
      "INFO:src.server.web_server:Handling accept location request with params: ImmutableMultiDict([('username', 'alice'), ('latitude_hashes', 'WyIzMjE2MjJjNjU5MTJiN2U1NzgxNTQ2Y2M0ZTNmY2U2N2U3ZDgxMzM5MDhkZDVjNjRjZWYzMzc5ZjVjODIxYzA4IiwgIjMyMTYyMmM2NTkxMmI3ZTU3ODE1NDZjYzRlM2ZjZTY3ZTdkODEzMzkwOGRkNWM2NGNlZjMzNzlmNWM4MjFjMDgiLCAiMzIxNjIyYzY1OTEyYjdlNTc4MTU0NmNjNGUzZmNlNjdlN2Q4MTMzOTA4ZGQ1YzY0Y2VmMzM3OWY1YzgyMWMwOCJd'), ('longitude_hashes', 'WyI2NDcxZDFmMDMzODY2NmY2NzgxMzA4ODc1MTdkMzBlNjM4MzllYTE0ZWUxZTg5MjgzZGJjYzJhZjBmM2UxMjAwIiwgIjY0NzFkMWYwMzM4NjY2ZjY3ODEzMDg4NzUxN2QzMGU2MzgzOWVhMTRlZTFlODkyODNkYmNjMmFmMGYzZTEyMDAiLCAiYWUyOGI1ZjczZWQ5NDk5ZTA2ODY3MWUzZTljMTVmMjA2NGFjMmViYmRjYWQyZDBlNmJmMWY0OWUzNjZmNjdlZSJd')])\n",
      "INFO:src.server.server_store:Location request from 'bob' to 'alice'\n",
      "INFO:werkzeug:127.0.0.1 - - [11/Nov/2024 19:48:10] \"POST /accept_location_request?username=alice&latitude_hashes=WyIzMjE2MjJjNjU5MTJiN2U1NzgxNTQ2Y2M0ZTNmY2U2N2U3ZDgxMzM5MDhkZDVjNjRjZWYzMzc5ZjVjODIxYzA4IiwgIjMyMTYyMmM2NTkxMmI3ZTU3ODE1NDZjYzRlM2ZjZTY3ZTdkODEzMzkwOGRkNWM2NGNlZjMzNzlmNWM4MjFjMDgiLCAiMzIxNjIyYzY1OTEyYjdlNTc4MTU0NmNjNGUzZmNlNjdlN2Q4MTMzOTA4ZGQ1YzY0Y2VmMzM3OWY1YzgyMWMwOCJd&longitude_hashes=WyI2NDcxZDFmMDMzODY2NmY2NzgxMzA4ODc1MTdkMzBlNjM4MzllYTE0ZWUxZTg5MjgzZGJjYzJhZjBmM2UxMjAwIiwgIjY0NzFkMWYwMzM4NjY2ZjY3ODEzMDg4NzUxN2QzMGU2MzgzOWVhMTRlZTFlODkyODNkYmNjMmFmMGYzZTEyMDAiLCAiYWUyOGI1ZjczZWQ5NDk5ZTA2ODY3MWUzZTljMTVmMjA2NGFjMmViYmRjYWQyZDBlNmJmMWY0OWUzNjZmNjdlZSJd HTTP/1.1\" 200 -\n",
      "INFO:src.server.web_server:Handling address request with params: ImmutableMultiDict([('username', 'bob')])\n",
      "INFO:werkzeug:127.0.0.1 - - [11/Nov/2024 19:48:11] \"GET /address_request?username=bob HTTP/1.1\" 200 -\n",
      "INFO:src.server.web_server:Handling address request with params: ImmutableMultiDict([('username', 'alice')])\n",
      "INFO:werkzeug:127.0.0.1 - - [11/Nov/2024 19:48:11] \"GET /address_request?username=alice HTTP/1.1\" 200 -\n"
     ]
    }
   ],
   "source": [
    "from src.server.server_store import ServerStore\n",
    "server_store = ServerStore(\"127.0.0.1\")"
   ]
  }
 ],
 "metadata": {
  "kernelspec": {
   "display_name": "Python 3",
   "language": "python",
   "name": "python3"
  },
  "language_info": {
   "codemirror_mode": {
    "name": "ipython",
    "version": 3
   },
   "file_extension": ".py",
   "mimetype": "text/x-python",
   "name": "python",
   "nbconvert_exporter": "python",
   "pygments_lexer": "ipython3",
   "version": "3.13.0"
  }
 },
 "nbformat": 4,
 "nbformat_minor": 2
}
