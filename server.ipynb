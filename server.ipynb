{
 "cells": [
  {
   "cell_type": "code",
   "execution_count": null,
   "metadata": {
    "metadata": {}
   },
   "outputs": [
    {
     "name": "stderr",
     "output_type": "stream",
     "text": [
      "INFO:src.server.web_server:Starting server at https://10.91.108.112:10000\n",
      "INFO:src.server.server_store:Web server started\n"
     ]
    },
    {
     "name": "stdout",
     "output_type": "stream",
     "text": [
      " * Serving Flask app \"src.server.web_server\" (lazy loading)\n",
      " * Environment: production\n",
      "   WARNING: This is a development server. Do not use it in a production deployment.\n",
      "   Use a production WSGI server instead.\n",
      " * Debug mode: off\n"
     ]
    },
    {
     "name": "stderr",
     "output_type": "stream",
     "text": [
      "INFO:werkzeug: * Running on https://10.91.108.112:10000/ (Press CTRL+C to quit)\n",
      "INFO:src.server.web_server:Handling create user with params: ImmutableMultiDict([('username', 'bob'), ('host', '10.91.39.161'), ('port', '9002')])\n",
      "INFO:src.server.server_store:User 'bob' created at address 10.91.39.161:9002\n",
      "INFO:werkzeug:10.91.39.161 - - [11/Nov/2024 21:44:15] \"\u001b[37mPOST /create_user?username=bob&host=10.91.39.161&port=9002 HTTP/1.1\u001b[0m\" 201 -\n",
      "INFO:src.server.web_server:Handling create user with params: ImmutableMultiDict([('username', 'alice'), ('host', '10.91.17.170'), ('port', '9001')])\n",
      "INFO:src.server.server_store:User 'alice' created at address 10.91.17.170:9001\n",
      "INFO:werkzeug:10.91.17.170 - - [11/Nov/2024 21:56:51] \"\u001b[37mPOST /create_user?username=alice&host=10.91.17.170&port=9001 HTTP/1.1\u001b[0m\" 201 -\n",
      "INFO:src.server.web_server:Handling add friend with params: ImmutableMultiDict([('username', 'bob')])\n",
      "INFO:src.server.server_store:Friend request from 'alice' to 'bob'\n",
      "INFO:werkzeug:10.91.17.170 - - [11/Nov/2024 21:57:14] \"\u001b[37mPOST /add_friend?username=bob HTTP/1.1\u001b[0m\" 200 -\n",
      "INFO:src.server.web_server:Handling accept friend request with params: ImmutableMultiDict([('username', 'alice')])\n",
      "INFO:src.server.server_store:Friend request accepted from 'alice' to 'bob'\n",
      "INFO:werkzeug:10.91.39.161 - - [11/Nov/2024 21:57:20] \"\u001b[37mPOST /accept_friend_request?username=alice HTTP/1.1\u001b[0m\" 200 -\n",
      "INFO:src.server.web_server:Handling address request with params: ImmutableMultiDict([('username', 'bob')])\n",
      "INFO:werkzeug:10.91.17.170 - - [11/Nov/2024 21:57:34] \"\u001b[37mGET /address_request?username=bob HTTP/1.1\u001b[0m\" 200 -\n",
      "INFO:src.server.web_server:Handling accept location request with params: ImmutableMultiDict([('username', 'alice'), ('latitude_hashes', 'WyIyZjgzMDU5ZjI0YmMyMjA4YmIxNGFiMjAwM2YxNjUxN2ZkOGNmYzExYjRkOGJkMWE3YTdiODBhOGE5YTgwZTJmIiwgIjJmODMwNTlmMjRiYzIyMDhiYjE0YWIyMDAzZjE2NTE3ZmQ4Y2ZjMTFiNGQ4YmQxYTdhN2I4MGE4YTlhODBlMmYiLCAiYTg3MGJlODg2MjMxYzY0ZmY1NzEwOWVlMDdjZTM3ZGVhY2QxMzcxYzdiYjlhN2RlMjIwMDcwYjY4NzRlODg4NyJd'), ('longitude_hashes', 'WyJiMjA3YWJjZDQyY2IxNDMwYzMwYTBhOTllMGI3ODFjNjI1NGY1NDNlZTI0ZGUzNGU5NTUxOGRhMjQ0OTRkYmM3IiwgImIyMDdhYmNkNDJjYjE0MzBjMzBhMGE5OWUwYjc4MWM2MjU0ZjU0M2VlMjRkZTM0ZTk1NTE4ZGEyNDQ5NGRiYzciLCAiOTBlNGQ4MWE0MTdmY2MxZmVkMjI1NTE1OTVjN2UxNTgyYTAwYWU5MTg4NjBmZGQwYmVhNzQxZmQ4YzY3NDZjNyJd')])\n",
      "INFO:src.server.server_store:Location request from 'bob' to 'alice'\n",
      "INFO:werkzeug:10.91.39.161 - - [11/Nov/2024 21:57:37] \"\u001b[37mPOST /accept_location_request?username=alice&latitude_hashes=WyIyZjgzMDU5ZjI0YmMyMjA4YmIxNGFiMjAwM2YxNjUxN2ZkOGNmYzExYjRkOGJkMWE3YTdiODBhOGE5YTgwZTJmIiwgIjJmODMwNTlmMjRiYzIyMDhiYjE0YWIyMDAzZjE2NTE3ZmQ4Y2ZjMTFiNGQ4YmQxYTdhN2I4MGE4YTlhODBlMmYiLCAiYTg3MGJlODg2MjMxYzY0ZmY1NzEwOWVlMDdjZTM3ZGVhY2QxMzcxYzdiYjlhN2RlMjIwMDcwYjY4NzRlODg4NyJd&longitude_hashes=WyJiMjA3YWJjZDQyY2IxNDMwYzMwYTBhOTllMGI3ODFjNjI1NGY1NDNlZTI0ZGUzNGU5NTUxOGRhMjQ0OTRkYmM3IiwgImIyMDdhYmNkNDJjYjE0MzBjMzBhMGE5OWUwYjc4MWM2MjU0ZjU0M2VlMjRkZTM0ZTk1NTE4ZGEyNDQ5NGRiYzciLCAiOTBlNGQ4MWE0MTdmY2MxZmVkMjI1NTE1OTVjN2UxNTgyYTAwYWU5MTg4NjBmZGQwYmVhNzQxZmQ4YzY3NDZjNyJd HTTP/1.1\u001b[0m\" 200 -\n",
      "INFO:src.server.web_server:Handling address request with params: ImmutableMultiDict([('username', 'bob')])\n",
      "INFO:werkzeug:10.91.17.170 - - [11/Nov/2024 21:57:38] \"\u001b[37mGET /address_request?username=bob HTTP/1.1\u001b[0m\" 200 -\n",
      "INFO:src.server.web_server:Handling address request with params: ImmutableMultiDict([('username', 'alice')])\n",
      "INFO:werkzeug:10.91.39.161 - - [11/Nov/2024 21:57:38] \"\u001b[37mGET /address_request?username=alice HTTP/1.1\u001b[0m\" 200 -\n"
     ]
    }
   ],
   "source": [
    "from src.server.server_store import ServerStore\n",
    "server_store = ServerStore(\"10.91.108.112\", 10000)"
   ]
  }
 ],
 "metadata": {
  "kernelspec": {
   "display_name": "Python 3",
   "language": "python",
   "name": "python3"
  },
  "language_info": {
   "codemirror_mode": {
    "name": "ipython",
    "version": 3
   },
   "file_extension": ".py",
   "mimetype": "text/x-python",
   "name": "python",
   "nbconvert_exporter": "python",
   "pygments_lexer": "ipython3",
   "version": "3.8.5"
  }
 },
 "nbformat": 4,
 "nbformat_minor": 2
}
