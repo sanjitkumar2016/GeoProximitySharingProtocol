{
 "cells": [
  {
   "cell_type": "code",
   "execution_count": 1,
   "metadata": {},
   "outputs": [],
   "source": [
    "from src.server.server_store import ServerStore"
   ]
  },
  {
   "cell_type": "code",
   "execution_count": null,
   "metadata": {},
   "outputs": [
    {
     "name": "stderr",
     "output_type": "stream",
     "text": [
      "INFO:src.server.web_server:Starting server at https://127.0.0.1:8080\n"
     ]
    },
    {
     "name": "stdout",
     "output_type": "stream",
     "text": [
      " * Serving Flask app 'src.server.web_server'\n",
      " * Debug mode: off\n"
     ]
    },
    {
     "name": "stderr",
     "output_type": "stream",
     "text": [
      "INFO:werkzeug:\u001b[31m\u001b[1mWARNING: This is a development server. Do not use it in a production deployment. Use a production WSGI server instead.\u001b[0m\n",
      " * Running on https://127.0.0.1:8080\n",
      "INFO:werkzeug:\u001b[33mPress CTRL+C to quit\u001b[0m\n",
      "INFO:werkzeug:127.0.0.1 - - [09/Nov/2024 19:49:14] \"\u001b[35m\u001b[1mPOST /create_user?username=alice&host=127.0.0.1&port=9001 HTTP/1.1\u001b[0m\" 201 -\n",
      "INFO:werkzeug:127.0.0.1 - - [09/Nov/2024 19:49:33] \"\u001b[35m\u001b[1mPOST /create_user?username=bob&host=127.0.0.1&port=9002 HTTP/1.1\u001b[0m\" 201 -\n"
     ]
    }
   ],
   "source": [
    "server_store = ServerStore()"
   ]
  }
 ],
 "metadata": {
  "kernelspec": {
   "display_name": "base",
   "language": "python",
   "name": "python3"
  },
  "language_info": {
   "codemirror_mode": {
    "name": "ipython",
    "version": 3
   },
   "file_extension": ".py",
   "mimetype": "text/x-python",
   "name": "python",
   "nbconvert_exporter": "python",
   "pygments_lexer": "ipython3",
   "version": "3.11.5"
  }
 },
 "nbformat": 4,
 "nbformat_minor": 2
}
