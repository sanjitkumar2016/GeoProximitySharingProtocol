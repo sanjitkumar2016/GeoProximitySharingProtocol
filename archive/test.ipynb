{
 "cells": [
  {
   "cell_type": "code",
   "execution_count": 1,
   "metadata": {},
   "outputs": [],
   "source": [
    "from src.client.client import Client\n",
    "from src.serverstore import ServerStore"
   ]
  },
  {
   "cell_type": "code",
   "execution_count": 2,
   "metadata": {},
   "outputs": [],
   "source": [
    "store = ServerStore()"
   ]
  },
  {
   "cell_type": "code",
   "execution_count": 3,
   "metadata": {},
   "outputs": [
    {
     "name": "stderr",
     "output_type": "stream",
     "text": [
      "INFO:src.client.client:Alice: Regenerated keys\n",
      "INFO:src.client.server_comms:Alice: Key added successfully\n"
     ]
    }
   ],
   "source": [
    "alice = Client(\"Alice\", 6001)"
   ]
  },
  {
   "cell_type": "code",
   "execution_count": 4,
   "metadata": {},
   "outputs": [
    {
     "name": "stderr",
     "output_type": "stream",
     "text": [
      "INFO:src.client.client:Bob: Regenerated keys\n",
      "INFO:src.client.server_comms:Bob: Key added successfully\n"
     ]
    }
   ],
   "source": [
    "bob = Client(\"Bob\", 6002)"
   ]
  },
  {
   "cell_type": "code",
   "execution_count": 5,
   "metadata": {},
   "outputs": [
    {
     "name": "stderr",
     "output_type": "stream",
     "text": [
      "INFO:src.client.user_comms:Alice: Sending message: {\"user\": \"Alice\", \"shared_secret_half\": 138808510305304849538830108209757503747}\n",
      "INFO:src.client.user_comms:Bob: Received friend request from Alice\n",
      "INFO:src.client.user_comms:Bob: Bob: Friend request stored from Alice\n"
     ]
    }
   ],
   "source": [
    "alice.send_friend_request(\"Bob\")"
   ]
  },
  {
   "cell_type": "code",
   "execution_count": 6,
   "metadata": {},
   "outputs": [
    {
     "name": "stderr",
     "output_type": "stream",
     "text": [
      "INFO:src.client.client:Bob: Friend request accepted from Alice\n"
     ]
    }
   ],
   "source": [
    "bob.accept_friend_request(\"Alice\")"
   ]
  },
  {
   "cell_type": "code",
   "execution_count": 7,
   "metadata": {},
   "outputs": [
    {
     "name": "stderr",
     "output_type": "stream",
     "text": [
      "INFO:src.client.user_comms:Bob: Sending message: {\"user\": \"Bob\", \"location\": \"home\"}\n",
      "INFO:src.client.user_comms:Alice: Received location from Bob at home\n"
     ]
    }
   ],
   "source": [
    "bob.send_location()"
   ]
  }
 ],
 "metadata": {
  "kernelspec": {
   "display_name": "base",
   "language": "python",
   "name": "python3"
  },
  "language_info": {
   "codemirror_mode": {
    "name": "ipython",
    "version": 3
   },
   "file_extension": ".py",
   "mimetype": "text/x-python",
   "name": "python",
   "nbconvert_exporter": "python",
   "pygments_lexer": "ipython3",
   "version": "3.11.5"
  }
 },
 "nbformat": 4,
 "nbformat_minor": 2
}
