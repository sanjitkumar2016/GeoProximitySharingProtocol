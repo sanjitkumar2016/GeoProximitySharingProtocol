{
 "cells": [
  {
   "cell_type": "code",
   "execution_count": 1,
   "metadata": {},
   "outputs": [
    {
     "name": "stderr",
     "output_type": "stream",
     "text": [
      "/Library/Frameworks/Python.framework/Versions/3.13/lib/python3.13/site-packages/urllib3/connectionpool.py:1099: InsecureRequestWarning: Unverified HTTPS request is being made to host '127.0.0.1'. Adding certificate verification is strongly advised. See: https://urllib3.readthedocs.io/en/latest/advanced-usage.html#tls-warnings\n",
      "  warnings.warn(\n",
      "INFO:src.client.web_client:Success! User bob created at address 127.0.0.1:9002\n"
     ]
    },
    {
     "name": "stderr",
     "output_type": "stream",
     "text": [
      "INFO:src.client.client_user:Received friend request from 'alice'\n",
      "INFO:src.client.client_user:Received location request from 'alice' for 1 mile(s)\n",
      "/Library/Frameworks/Python.framework/Versions/3.13/lib/python3.13/site-packages/urllib3/connectionpool.py:1099: InsecureRequestWarning: Unverified HTTPS request is being made to host '127.0.0.1'. Adding certificate verification is strongly advised. See: https://urllib3.readthedocs.io/en/latest/advanced-usage.html#tls-warnings\n",
      "  warnings.warn(\n",
      "INFO:src.client.web_client:Received address for alice\n",
      "INFO:src.client.client_user:Received location rehashes from 'alice'\n",
      "INFO:src.client.client_user:Received location request from 'alice' for 1 mile(s)\n",
      "/Library/Frameworks/Python.framework/Versions/3.13/lib/python3.13/site-packages/urllib3/connectionpool.py:1099: InsecureRequestWarning: Unverified HTTPS request is being made to host '127.0.0.1'. Adding certificate verification is strongly advised. See: https://urllib3.readthedocs.io/en/latest/advanced-usage.html#tls-warnings\n",
      "  warnings.warn(\n",
      "INFO:src.client.web_client:Received address for alice\n",
      "INFO:src.client.client_user:Received location rehashes from 'alice'\n"
     ]
    }
   ],
   "source": [
    "from src.client.client_user import ClientUser\n",
    "bob = ClientUser(\"bob\", \"127.0.0.1\", 9002)"
   ]
  },
  {
   "cell_type": "code",
   "execution_count": 2,
   "metadata": {},
   "outputs": [
    {
     "name": "stderr",
     "output_type": "stream",
     "text": [
      "/Library/Frameworks/Python.framework/Versions/3.13/lib/python3.13/site-packages/urllib3/connectionpool.py:1099: InsecureRequestWarning: Unverified HTTPS request is being made to host '127.0.0.1'. Adding certificate verification is strongly advised. See: https://urllib3.readthedocs.io/en/latest/advanced-usage.html#tls-warnings\n",
      "  warnings.warn(\n",
      "INFO:src.client.web_client:Accepted friend request from alice\n"
     ]
    }
   ],
   "source": [
    "bob.accept_friend_request(\"alice\")"
   ]
  },
  {
   "cell_type": "code",
   "execution_count": 3,
   "metadata": {},
   "outputs": [
    {
     "data": {
      "text/plain": [
       "{'alice'}"
      ]
     },
     "execution_count": 3,
     "metadata": {},
     "output_type": "execute_result"
    }
   ],
   "source": [
    "bob.friends"
   ]
  },
  {
   "cell_type": "code",
   "execution_count": 6,
   "metadata": {},
   "outputs": [
    {
     "name": "stderr",
     "output_type": "stream",
     "text": [
      "/Library/Frameworks/Python.framework/Versions/3.13/lib/python3.13/site-packages/urllib3/connectionpool.py:1099: InsecureRequestWarning: Unverified HTTPS request is being made to host '127.0.0.1'. Adding certificate verification is strongly advised. See: https://urllib3.readthedocs.io/en/latest/advanced-usage.html#tls-warnings\n",
      "  warnings.warn(\n",
      "INFO:src.client.web_client:Received rehashes for exchange with alice: {'latitude_rehashes': 'WyIzOTQ2NDA4MzU3OGNiNjNiZmJhMDJkMDExNjg5NDI0YWNjYmIxMzAyZDFkODczNmRmOTU5NjE3NWFlOTI4ODNlIiwgIjM5NDY0MDgzNTc4Y2I2M2JmYmEwMmQwMTE2ODk0MjRhY2NiYjEzMDJkMWQ4NzM2ZGY5NTk2MTc1YWU5Mjg4M2UiLCAiMzk0NjQwODM1NzhjYjYzYmZiYTAyZDAxMTY4OTQyNGFjY2JiMTMwMmQxZDg3MzZkZjk1OTYxNzVhZTkyODgzZSJd', 'longitude_rehashes': 'WyJlY2EyZTRhMzIwYWU3MDVhZTUwZTQ0NmZhZDQzNzc3NmRkNWUwYWQzNWYxY2EyY2Q4ZjA4MjI1YTNkNWZhMTZlIiwgImVjYTJlNGEzMjBhZTcwNWFlNTBlNDQ2ZmFkNDM3Nzc2ZGQ1ZTBhZDM1ZjFjYTJjZDhmMDgyMjVhM2Q1ZmExNmUiLCAiYWY5NzQwNGQ4ZGRmMDNiNGVmZmUzM2I2NzRiNWJlMGEyZjg5MGUyMTM0NzVlNmNlYWE2MTdmYmMyNmIyZTY5OSJd'}\n",
      "INFO:src.client.client_user:Location response sent to 'alice'\n"
     ]
    }
   ],
   "source": [
    "bob.accept_location_request(\"alice\")"
   ]
  }
 ],
 "metadata": {
  "kernelspec": {
   "display_name": "Python 3",
   "language": "python",
   "name": "python3"
  },
  "language_info": {
   "codemirror_mode": {
    "name": "ipython",
    "version": 3
   },
   "file_extension": ".py",
   "mimetype": "text/x-python",
   "name": "python",
   "nbconvert_exporter": "python",
   "pygments_lexer": "ipython3",
   "version": "3.13.0"
  }
 },
 "nbformat": 4,
 "nbformat_minor": 2
}
